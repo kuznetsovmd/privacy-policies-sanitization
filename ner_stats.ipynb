{
 "cells": [
  {
   "cell_type": "code",
   "execution_count": 12,
   "metadata": {},
   "outputs": [],
   "source": [
    "import json\n",
    "import pandas as pd"
   ]
  },
  {
   "cell_type": "code",
   "execution_count": 13,
   "metadata": {},
   "outputs": [],
   "source": [
    "resources = f'resources'"
   ]
  },
  {
   "cell_type": "code",
   "execution_count": 14,
   "metadata": {},
   "outputs": [],
   "source": [
    "def read_items(lib, path):\n",
    "    with open(path) as f:\n",
    "        items_dict = json.load(f)\n",
    "    items = []\n",
    "    for k, v in items_dict.items():\n",
    "        for p in v['pers']:\n",
    "            if p:\n",
    "                items.append([lib, 'pers', p])\n",
    "        # for l in v['locs']:\n",
    "        #     if l:\n",
    "        #         items.append([lib, k, 'locs', l])\n",
    "    return pd.DataFrame(items, columns=['lib', 'type', 'value'])"
   ]
  },
  {
   "cell_type": "code",
   "execution_count": 15,
   "metadata": {},
   "outputs": [],
   "source": [
    "deeppavlov = read_items('deeppavlov', f'{resources}/deeppavlov.json').drop_duplicates()\n",
    "natasha = read_items('natasha', f'{resources}/natasha.json').drop_duplicates()\n",
    "spacy = read_items('spacy', f'{resources}/spacy.json').drop_duplicates()\n",
    "stanza = read_items('stanza', f'{resources}/stanza.json').drop_duplicates()\n",
    "transformers = read_items('transformers', f'{resources}/transformers.json').drop_duplicates()"
   ]
  },
  {
   "cell_type": "code",
   "execution_count": 16,
   "metadata": {},
   "outputs": [],
   "source": [
    "all_ne = pd.concat([deeppavlov, natasha, spacy, stanza, transformers], ignore_index=True)\n",
    "all_ne.to_csv(f'{resources}/all_ne.csv')"
   ]
  },
  {
   "cell_type": "markdown",
   "metadata": {},
   "source": [
    "# RESTORE AFTER CORRUPTION"
   ]
  }
 ],
 "metadata": {
  "kernelspec": {
   "display_name": "venv",
   "language": "python",
   "name": "python3"
  },
  "language_info": {
   "codemirror_mode": {
    "name": "ipython",
    "version": 3
   },
   "file_extension": ".py",
   "mimetype": "text/x-python",
   "name": "python",
   "nbconvert_exporter": "python",
   "pygments_lexer": "ipython3",
   "version": "3.12.4"
  }
 },
 "nbformat": 4,
 "nbformat_minor": 2
}
